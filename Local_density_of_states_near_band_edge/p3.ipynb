{
 "cells": [
  {
   "cell_type": "code",
   "execution_count": 1,
   "metadata": {},
   "outputs": [],
   "source": [
    "import numpy as np\n",
    "from scipy.integrate import nquad\n",
    "from scipy.stats import multivariate_normal"
   ]
  },
  {
   "cell_type": "markdown",
   "metadata": {},
   "source": [
    "##### 1a"
   ]
  },
  {
   "cell_type": "code",
   "execution_count": 17,
   "metadata": {},
   "outputs": [],
   "source": [
    "def integrand(v, A, w):\n",
    "    v = np.array(v)\n",
    "    return np.exp(-0.5 * v @ A @ v + w @ v)\n",
    "\n",
    "def numerical_integral(A, w):\n",
    "    N = len(w)\n",
    "    bounds = [(-np.inf, np.inf)] * N\n",
    "    result, error = nquad(lambda *v: integrand(v, A, w), bounds)\n",
    "    return result\n",
    "\n",
    "def analytical_result(A, w):\n",
    "    N = len(w)\n",
    "    A_inv = np.linalg.inv(A)\n",
    "    determinant = np.linalg.det(A_inv)\n",
    "    exponent = 0.5 * w @ A_inv @ w\n",
    "    return np.sqrt((2 * np.pi) ** N * determinant) * np.exp(exponent)\n"
   ]
  },
  {
   "cell_type": "markdown",
   "metadata": {},
   "source": [
    "##### 1b"
   ]
  },
  {
   "cell_type": "code",
   "execution_count": 18,
   "metadata": {},
   "outputs": [
    {
     "name": "stdout",
     "output_type": "stream",
     "text": [
      "[ 8.18227818  3.65391611 -0.83619429]\n",
      "[9.34849393 3.73015912 1.92134694]\n",
      "Matrix A - Numerical Integral: 4.275823659021463\n",
      "Matrix A - Analytical Result: 4.275823659011514\n"
     ]
    }
   ],
   "source": [
    "A = np.array([[4, 2, 1], [2, 5, 3], [1, 3, 6]]) \n",
    "A_prime = np.array([[4, 2, 1], [2, 1, 3], [1, 3, 6]]) \n",
    "w = np.array([1, 2, 3])\n",
    "\n",
    "print(np.linalg.eigvals(A_prime))\n",
    "print(np.linalg.eigvals(A))\n",
    "\n",
    "numerical_value_A = numerical_integral(A, w)\n",
    "analytical_value_A = analytical_result(A, w)\n",
    "print(f\"Matrix A - Numerical Integral: {numerical_value_A}\")\n",
    "print(f\"Matrix A - Analytical Result: {analytical_value_A}\")\n",
    "\n",
    "# We can see, that A_prime is not positive definite, since once eigenvalue is negative\n",
    "# Therefore the integral will not converge for A_prime\n",
    "\n",
    "# numerical_value_A_prime = numerical_integral(A_prime, w)\n",
    "# analytical_value_A_prime = analytical_result(A_prime, w)\n",
    "# print(f\"Matrix A' - Numerical Integral: {numerical_value_A_prime}\")\n",
    "# print(f\"Matrix A' - Analytical Result: {analytical_value_A_prime}\")\n"
   ]
  },
  {
   "cell_type": "code",
   "execution_count": 22,
   "metadata": {},
   "outputs": [
    {
     "name": "stdout",
     "output_type": "stream",
     "text": [
      "Closed-form means: [0.08955224 0.10447761 0.43283582]\n",
      "Numerical means: [0.08881361 0.10561511 0.43240611]\n",
      "\n",
      "Closed-form second moments:\n",
      " [[ 0.32145244 -0.12497215  0.05368679]\n",
      " [-0.12497215  0.35419915 -0.10403208]\n",
      " [ 0.05368679 -0.10403208  0.42615282]]\n",
      "Numerical second moments:\n",
      " [[ 0.32217593 -0.12545014  0.05295007]\n",
      " [-0.12545014  0.3548292  -0.10376986]\n",
      " [ 0.05295007 -0.10376986  0.42659586]]\n",
      "\n",
      "Mean Differences: [0.00073863 0.0011375  0.00042971]\n",
      "Second Moment Differences:\n",
      " [[0.00072349 0.00047799 0.00073672]\n",
      " [0.00047799 0.00063005 0.00026222]\n",
      " [0.00073672 0.00026222 0.00044304]]\n"
     ]
    }
   ],
   "source": [
    "# Define A (covariance matrix) and w (mean adjustment vector)\n",
    "A = np.array([[4, 2, 1],\n",
    "              [2, 5, 3],\n",
    "              [1, 3, 6]])\n",
    "w = np.array([1, 2, 3])\n",
    "\n",
    "# Compute the inverse of A\n",
    "A_inv = np.linalg.inv(A)\n",
    "\n",
    "# Compute closed-form means\n",
    "mu = A_inv @ w  # μ = A⁻¹ w\n",
    "\n",
    "# Compute closed-form second moments (covariance matrix)\n",
    "cov_matrix = A_inv  # Cov(v_i, v_j) = (A⁻¹)_ij\n",
    "\n",
    "# Closed-form second moments\n",
    "second_moments = cov_matrix + np.outer(mu, mu)  # E[v_i v_j] = Cov(v_i, v_j) + E[v_i]E[v_j]\n",
    "\n",
    "# Monte Carlo sampling for numerical estimation\n",
    "num_samples = 1000000  # Large number of samples for accuracy\n",
    "samples = multivariate_normal.rvs(mean=mu, cov=cov_matrix, size=num_samples)\n",
    "\n",
    "# Compute numerical means\n",
    "numerical_means = np.mean(samples, axis=0)\n",
    "\n",
    "# Compute numerical second moments\n",
    "numerical_second_moments = np.mean(samples[:, :, None] * samples[:, None, :], axis=0)\n",
    "\n",
    "# Compare results\n",
    "print(\"Closed-form means:\", mu)\n",
    "print(\"Numerical means:\", numerical_means)\n",
    "print()\n",
    "print(\"Closed-form second moments:\\n\", second_moments)\n",
    "print(\"Numerical second moments:\\n\", numerical_second_moments)\n",
    "\n",
    "# Verify similarity\n",
    "mean_diff = np.abs(mu - numerical_means)\n",
    "moment_diff = np.abs(second_moments - numerical_second_moments)\n",
    "\n",
    "print(\"\\nMean Differences:\", mean_diff)\n",
    "print(\"Second Moment Differences:\\n\", moment_diff)\n"
   ]
  },
  {
   "cell_type": "markdown",
   "metadata": {},
   "source": [
    "#### 2."
   ]
  },
  {
   "cell_type": "code",
   "execution_count": 3,
   "metadata": {},
   "outputs": [
    {
     "name": "stdout",
     "output_type": "stream",
     "text": [
      "Saved: local_density_of_states_heatmap\\heatmap_0.png\n",
      "Saved: local_density_of_states_heatmap\\heatmap_1.png\n",
      "Saved: local_density_of_states_heatmap\\heatmap_10.png\n",
      "Saved: local_density_of_states_heatmap\\heatmap_2.png\n",
      "Saved: local_density_of_states_heatmap\\heatmap_3.png\n",
      "Saved: local_density_of_states_heatmap\\heatmap_4.png\n",
      "Saved: local_density_of_states_heatmap\\heatmap_5.png\n",
      "Saved: local_density_of_states_heatmap\\heatmap_6.png\n",
      "Saved: local_density_of_states_heatmap\\heatmap_7.png\n",
      "Saved: local_density_of_states_heatmap\\heatmap_8.png\n",
      "Saved: local_density_of_states_heatmap\\heatmap_9.png\n"
     ]
    }
   ],
   "source": [
    "import os\n",
    "import numpy as np\n",
    "import matplotlib.pyplot as plt\n",
    "\n",
    "# Define the folder where heatmaps will be saved\n",
    "heatmap_folder = \"local_density_of_states_heatmap\"\n",
    "\n",
    "# Create the folder if it doesn't exist\n",
    "os.makedirs(heatmap_folder, exist_ok=True)\n",
    "\n",
    "# Get a sorted list of all text files in the current directory\n",
    "text_files = sorted([f for f in os.listdir() if f.endswith(\".txt\")])\n",
    "\n",
    "# Loop through each file and generate a heatmap\n",
    "for filename in text_files:\n",
    "    try:\n",
    "        # Load the data\n",
    "        data = np.loadtxt(filename, delimiter = \",\")\n",
    "\n",
    "        # Generate heatmap\n",
    "        plt.figure(figsize=(6, 5))\n",
    "        plt.imshow(data, cmap=\"hot\", aspect=\"auto\")  # Adjust colormap if needed\n",
    "        plt.colorbar(label=\"Electron Density\")\n",
    "\n",
    "        # Extract the index number from the filename (assuming format \"file_0.txt\")\n",
    "        file_index = filename.split(\"_\")[-1].split(\".\")[0]  # Adjust if needed\n",
    "\n",
    "        # Save the heatmap\n",
    "        heatmap_path = os.path.join(heatmap_folder, f\"heatmap_{file_index}.png\")\n",
    "        plt.savefig(heatmap_path)\n",
    "        plt.close()\n",
    "\n",
    "        print(f\"Saved: {heatmap_path}\")\n",
    "\n",
    "    except Exception as e:\n",
    "        print(f\"Error processing {filename}: {e}\")\n"
   ]
  },
  {
   "cell_type": "code",
   "execution_count": 3,
   "metadata": {},
   "outputs": [
    {
     "name": "stdout",
     "output_type": "stream",
     "text": [
      "Saved: Local_density_of_states_near_band_edge\\local_density_of_states_height\\height_profile_0.png\n",
      "Saved: Local_density_of_states_near_band_edge\\local_density_of_states_height\\height_profile_1.png\n",
      "Saved: Local_density_of_states_near_band_edge\\local_density_of_states_height\\height_profile_10.png\n",
      "Saved: Local_density_of_states_near_band_edge\\local_density_of_states_height\\height_profile_2.png\n",
      "Saved: Local_density_of_states_near_band_edge\\local_density_of_states_height\\height_profile_3.png\n",
      "Saved: Local_density_of_states_near_band_edge\\local_density_of_states_height\\height_profile_4.png\n",
      "Saved: Local_density_of_states_near_band_edge\\local_density_of_states_height\\height_profile_5.png\n",
      "Saved: Local_density_of_states_near_band_edge\\local_density_of_states_height\\height_profile_6.png\n",
      "Saved: Local_density_of_states_near_band_edge\\local_density_of_states_height\\height_profile_7.png\n",
      "Saved: Local_density_of_states_near_band_edge\\local_density_of_states_height\\height_profile_8.png\n",
      "Saved: Local_density_of_states_near_band_edge\\local_density_of_states_height\\height_profile_9.png\n"
     ]
    }
   ],
   "source": [
    "import os\n",
    "import numpy as np\n",
    "import matplotlib.pyplot as plt\n",
    "from mpl_toolkits.mplot3d import Axes3D\n",
    "\n",
    "# Define the parent directory and new subdirectory\n",
    "parent_dir = \"Local_density_of_states_near_band_edge\"\n",
    "heightmap_folder = os.path.join(parent_dir, \"local_density_of_states_height\")\n",
    "\n",
    "# Create directories if they don't exist\n",
    "os.makedirs(heightmap_folder, exist_ok=True)\n",
    "\n",
    "# Get a sorted list of all text files in the current directory\n",
    "text_files = sorted([f for f in os.listdir() if f.endswith(\".txt\")])\n",
    "\n",
    "# Loop through each file and generate a surface plot\n",
    "for filename in text_files:\n",
    "    try:\n",
    "        # Load the data, handling potential formatting issues\n",
    "        with open(filename, \"r\") as f:\n",
    "            lines = [line.replace(\",\", \" \") for line in f]  # Replace commas with spaces\n",
    "        \n",
    "        # Convert the cleaned data into a NumPy array\n",
    "        data = np.loadtxt(lines)\n",
    "\n",
    "        # Create meshgrid for surface plot\n",
    "        x = np.arange(data.shape[1])\n",
    "        y = np.arange(data.shape[0])\n",
    "        X, Y = np.meshgrid(x, y)\n",
    "\n",
    "        # Generate 3D surface plot\n",
    "        fig = plt.figure(figsize=(8, 6))\n",
    "        ax = fig.add_subplot(111, projection=\"3d\")\n",
    "        ax.plot_surface(X, Y, data, cmap=\"viridis\", edgecolor=\"none\")\n",
    "\n",
    "        # Labels and title\n",
    "        ax.set_xlabel(\"X-axis\")\n",
    "        ax.set_ylabel(\"Y-axis\")\n",
    "        ax.set_zlabel(\"Local Density of States\")\n",
    "        file_index = filename.split(\"_\")[-1].split(\".\")[0]  # Extract index\n",
    "        ax.set_title(f\"Height Profile - {file_index}\")\n",
    "\n",
    "        # Save the plot\n",
    "        save_path = os.path.join(heightmap_folder, f\"height_profile_{file_index}.png\")\n",
    "        plt.savefig(save_path)\n",
    "        plt.close()\n",
    "\n",
    "        print(f\"Saved: {save_path}\")\n",
    "\n",
    "    except Exception as e:\n",
    "        print(f\"Error processing {filename}: {e}\")\n"
   ]
  },
  {
   "cell_type": "code",
   "execution_count": null,
   "metadata": {},
   "outputs": [
    {
     "name": "stdout",
     "output_type": "stream",
     "text": [
      "[ 0  1  3  4  5  6  7  8  9 10  2]\n"
     ]
    },
    {
     "data": {
      "image/png": "[encoded data removed]",
      "text/plain": [
       "<Figure size 1000x600 with 1 Axes>"
      ]
     },
     "metadata": {},
     "output_type": "display_data"
    }
   ],
   "source": [
    "# Define the sub-region (example: rows 10 to 20, columns 5 to 15)\n",
    "subregion_rows = slice(10, 20)\n",
    "subregion_cols = slice(5, 15)\n",
    "\n",
    "# Function to calculate the average LDOS in the sub-region\n",
    "def calculate_average_ldos(data):\n",
    "    subregion = data[subregion_rows, subregion_cols]\n",
    "    return np.mean(subregion)\n",
    "\n",
    "# Get a list of all text files in the directory\n",
    "file_list = sorted([f for f in os.listdir() if f.endswith(\".txt\")])\n",
    "\n",
    "# Initialize lists to store indices and average LDOS values\n",
    "indices = []\n",
    "average_ldos_values = []\n",
    "\n",
    "# Process each file\n",
    "for file_name in file_list:\n",
    "    # Extract the index from the file name\n",
    "    index = file_name.split(\"_\")[-1].split(\".\")[0]\n",
    "    indices.append(index)\n",
    "    \n",
    "    # Load the data from the file\n",
    "    data = np.loadtxt(file_name, delimiter = \",\")\n",
    "    \n",
    "    # Calculate the average LDOS in the sub-region\n",
    "    average_ldos = calculate_average_ldos(data)\n",
    "    average_ldos_values.append(average_ldos)\n",
    "\n",
    "# fixing the order of indices\n",
    "indices = np.array(indices, dtype=int)\n",
    "sorted_order = np.argsort(indices)\n",
    "average_ldos_values = np.array(average_ldos_values)[sorted_order]\n",
    "indices = indices[sorted_order]\n",
    "\n",
    "# Plot the changes in average LDOS across all indices\n",
    "plt.figure(figsize=(10, 6))\n",
    "plt.plot(indices, average_ldos_values, marker='o', linestyle='-')\n",
    "plt.xlabel('File Index')\n",
    "plt.ylabel('Average LDOS in Sub-region')\n",
    "plt.title('Changes in Average LDOS Across Files')\n",
    "plt.grid(True)\n",
    "plt.show()"
   ]
  },
  {
   "cell_type": "markdown",
   "metadata": {},
   "source": [
    "##### Based on the observed trend in the LDOS, with high fluctuations at the lower energy levels, I think that the lower energies correspond to states within the conduction band. As we move to higher energies, the LDOS decreases, which suggests the system is transitioning into a band gap region. This lower LDOS in the band gap is expected, as there are fewer available electronic states for the electrons in this energy range."
   ]
  }
 ],
 "metadata": {
  "kernelspec": {
   "display_name": "base",
   "language": "python",
   "name": "python3"
  },
  "language_info": {
   "codemirror_mode": {
    "name": "ipython",
    "version": 3
   },
   "file_extension": ".py",
   "mimetype": "text/x-python",
   "name": "python",
   "nbconvert_exporter": "python",
   "pygments_lexer": "ipython3",
   "version": "3.9.21"
  }
 },
 "nbformat": 4,
 "nbformat_minor": 2
}
